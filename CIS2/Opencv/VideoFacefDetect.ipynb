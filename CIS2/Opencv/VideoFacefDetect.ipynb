{
 "cells": [
  {
   "cell_type": "code",
   "execution_count": 1,
   "metadata": {},
   "outputs": [],
   "source": [
    "import numpy as np\n",
    "import cv2 as cv\n",
    "import matplotlib.pyplot as plt"
   ]
  },
  {
   "cell_type": "code",
   "execution_count": 2,
   "metadata": {},
   "outputs": [],
   "source": [
    "detector=cv.CascadeClassifier(\"haarcascade_frontalface_alt.xml\")"
   ]
  },
  {
   "cell_type": "code",
   "execution_count": 4,
   "metadata": {},
   "outputs": [],
   "source": [
    "cap=cv.VideoCapture(0)#0从摄像头,加路径从文件\n",
    "while(True):\n",
    "    ret,frame=cap.read()# ret bool True-> 成功 frame 帧\n",
    "    if(ret):\n",
    "        gray=cv.cvtColor(frame,cv.COLOR_BGR2GRAY)\n",
    "        rects=detector.detectMultiScale(gray,scaleFactor=1.1,minNeighbors=2,minSize=(10,10),flags=cv.CASCADE_SCALE_IMAGE)\n",
    "        for (x,y,w,h) in rects:\n",
    "            cv.rectangle(gray,(x,y),(x+w,y+h),(0,255,0),2)\n",
    "        cv.imshow(\"ret\",gray)\n",
    "        \n",
    "        \n",
    "    if cv.waitKey(10)& 0xFF == ord('q'): #waitkey刷新图像 单位ms\n",
    "        break\n",
    "cap.release()\n",
    "cv.destroyAllWindows()"
   ]
  },
  {
   "cell_type": "code",
   "execution_count": null,
   "metadata": {},
   "outputs": [],
   "source": []
  }
 ],
 "metadata": {
  "kernelspec": {
   "display_name": "Python 3",
   "language": "python",
   "name": "python3"
  },
  "language_info": {
   "codemirror_mode": {
    "name": "ipython",
    "version": 3
   },
   "file_extension": ".py",
   "mimetype": "text/x-python",
   "name": "python",
   "nbconvert_exporter": "python",
   "pygments_lexer": "ipython3",
   "version": "3.7.3"
  }
 },
 "nbformat": 4,
 "nbformat_minor": 2
}
