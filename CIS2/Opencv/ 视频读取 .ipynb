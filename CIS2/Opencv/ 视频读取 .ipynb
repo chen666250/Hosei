{
 "cells": [
  {
   "cell_type": "code",
   "execution_count": 1,
   "metadata": {},
   "outputs": [],
   "source": [
    "import numpy as np\n",
    "import cv2 as cv\n",
    "import matplotlib.pyplot as plt"
   ]
  },
  {
   "cell_type": "code",
   "execution_count": null,
   "metadata": {},
   "outputs": [],
   "source": [
    "cap=cv.VideoCapture(0)#0从摄像头,加路径从文件\n",
    "while(True):\n",
    "    ret,frame=cap.read()# ret bool True-> 成功 frame 帧\n",
    "    if(ret):\n",
    "        gray=cv.cvtColor(frame,cv.COLOR_BGR2GRAY)\n",
    "        cv.imshow(\"ret\",gray)\n",
    "    if cv.waitKey(1)& 0xFF == ord('q'): #waitkey刷新图像 单位ms\n",
    "        break\n",
    "cap.release()\n",
    "cv.destroyAllWindows()"
   ]
  },
  {
   "cell_type": "code",
   "execution_count": 5,
   "metadata": {},
   "outputs": [],
   "source": [
    "cap=cv.VideoCapture(0)\n",
    "fourcc=cv.VideoWriter_fourcc(*\"XVID\")\n",
    "out=cv.VideoWriter(\"out.avi\",fourcc,30,(100,100))\n",
    "while(True):\n",
    "    ret,frame=cap.read()\n",
    "    if ret:\n",
    "        cv.imshow(\"frame\",frame)\n",
    "        out.write(frame)\n",
    "        if cv.waitKey(1)& 0xFF == ord('q'): #waitkey刷新图像 单位ms\n",
    "            break\n",
    "    else:\n",
    "        break \n",
    "out.release()\n",
    "cap.release()\n"
   ]
  },
  {
   "cell_type": "code",
   "execution_count": null,
   "metadata": {},
   "outputs": [],
   "source": []
  }
 ],
 "metadata": {
  "kernelspec": {
   "display_name": "Python 3",
   "language": "python",
   "name": "python3"
  },
  "language_info": {
   "codemirror_mode": {
    "name": "ipython",
    "version": 3
   },
   "file_extension": ".py",
   "mimetype": "text/x-python",
   "name": "python",
   "nbconvert_exporter": "python",
   "pygments_lexer": "ipython3",
   "version": "3.7.3"
  }
 },
 "nbformat": 4,
 "nbformat_minor": 2
}
